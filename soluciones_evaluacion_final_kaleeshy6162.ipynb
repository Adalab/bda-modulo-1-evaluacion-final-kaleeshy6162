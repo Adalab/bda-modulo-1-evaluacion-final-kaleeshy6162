{
 "cells": [
  {
   "cell_type": "markdown",
   "metadata": {},
   "source": [
    "# Ejercicio 1:"
   ]
  },
  {
   "cell_type": "code",
   "execution_count": 1,
   "metadata": {},
   "outputs": [],
   "source": [
    "class TiendaOnline : \n",
    "    def __init__(self, ventas_totales = 0.0):\n",
    "        \n",
    "        self.ventas_totales = ventas_totales  # float\n",
    "        self.inventario = []   # `'nombre'`, `'precio'`, y `'cantidad'`\n",
    "        self.clientes = {}   # `'nombre'` y `'email'`\n",
    "\n",
    "\n",
    "    def agregar_producto(self, nombre, precio, cantidad):\n",
    "\n",
    "        \"\"\"Este método recibe nombre, precio, cantidad y sirve para añadir productos al inventario y actualizar la cantidad de un producto, si ya existe.\"\"\"\n",
    "\n",
    "        for producto in self.inventario :\n",
    "\n",
    "            if producto['nombre'] == nombre: # Si el producto es igual al produccto que esta en el inventario, informamos de que la cantidad del producto se ha actualizado correctamente.\n",
    "\n",
    "                producto['cantidad'] += cantidad # Actualizo la cantidad sumando la nueva.\n",
    "                print(f\"El producto {nombre} se ha actualizado correctamente.\")\n",
    "                return # Al cumplirse esta condicion paramos.\n",
    "            \n",
    "        # Si no se encuentra, se añade el nuevo producto\n",
    "        nuevo_p = {\"nombre\": nombre, \"precio\": precio, \"cantidad\": cantidad}\n",
    "        self.inventario.append(nuevo_p)\n",
    "        print(f\"El producto {nombre} se ha agregado al inventario.\")\n",
    "\n",
    "    def ver_inventario(self):\n",
    "\n",
    "        \"\"\"Este metodo sirve para ver el inventario de productos con sus detalles.\"\"\"\n",
    "\n",
    "        if not self.inventario: # Si no hay nada, aviso de que esta el inventario vacio.\n",
    "             print(\"El inventario esta vacio\")\n",
    "\n",
    "        for producto in self.inventario:\n",
    "                # Imprimimo los detalles del producto.\n",
    "                print(f\"Nombre: {producto['nombre']}, Precio: ${producto['precio']}, Cantidad: {producto['cantidad']}\")\n",
    "\n",
    "    def buscar_producto(self, nombre):\n",
    "\n",
    "        \"\"\"Este metodo sirve para buscar un producto en el inventario por nombre con sus detalles.\"\"\"\n",
    "\n",
    "        for producto in self.inventario:\n",
    "                \n",
    "                if nombre == producto['nombre'] :   # Si encontramos el producto\n",
    "                    \n",
    "                    print(f\"Nombre: {producto['nombre']}, Precio: ${producto['precio']}, Cantidad: {producto['cantidad']}\")\n",
    "                    break  # Salimos del bucle ya que no necesitamos seguir buscando\n",
    "\n",
    "        if nombre not in producto['nombre'] :  # Si después de buscar no lo encontramos\n",
    "\n",
    "                    print(f\"El producto: {nombre} no se encuentra en el inventario.\")\n",
    "\n",
    "    def actualizar_stock(self, nombre, cantidad):\n",
    "         \n",
    "        \"\"\"Este metodo recibe nombre, cantidad y sirve para actualizar el stock de un producto en el inventario. Debe recibir el nombre del producto y la cantidad a agregar o quitar como parámetros. \"\"\"\n",
    "\n",
    "        for producto in self.inventario :\n",
    "\n",
    "            if producto['nombre'] == nombre :  # Si el producto es igual al produccto que esta en el inventario, actualizamos la cantidad del producto que hay en stock.\n",
    "\n",
    "                producto['cantidad'] = cantidad # Actualizo la cantidad sustituyendola.\n",
    "                print(f\"El producto {nombre} se ha actualizado correctamente, el stock actual es de {cantidad}.\")\n",
    "                return # Al cumplirse esta condicion paramos.\n",
    "            \n",
    "        if producto['nombre'] not in nombre : # No entiendo como aqui si funciona.\n",
    "\n",
    "            print(f\"Lo siento no tenemos el producto {nombre} en el inventario.\")\n",
    "\n",
    "    def eliminar_producto(self, nombre):\n",
    "\n",
    "        for producto in self.inventario:\n",
    "\n",
    "            if nombre == producto['nombre'] :\n",
    "\n",
    "                self.inventario.remove(producto)\n",
    "                print(f\"El producto: {nombre} a sido eliminado correctamente.\")\n",
    "                return\n",
    "\n",
    "        if nombre not in self.inventario:\n",
    "\n",
    "            print(f\"El producto: {nombre} no esta en el inventario.\")\n",
    "\n",
    "    def calcular_valor_inventario(self):\n",
    "\n",
    "        \"\"\"Este metodo sirve para calcular y mostrar el valor total del inventario.\"\"\"\n",
    "\n",
    "        valor_total = 0  # Inicio la variable para el valor total del inventario.\n",
    "\n",
    "        for producto in self.inventario:\n",
    "\n",
    "            valor_producto = producto['precio'] * producto['cantidad']  # Calculo el valor de cada producto.\n",
    "            valor_total += valor_producto  # Sumo el valor del producto al total.\n",
    "\n",
    "        print(f\"El valor total del inventario es: {valor_total} euros.\")  # Mostramos el valor total, fuera del bucle si no se imprime por cada elemento.\n",
    "\n",
    "    def realizar_compra(self):\n",
    "\n",
    "        \"\"\"Este metodo permite al cliente seleccionar productos y calcular el costo total de la compra\"\"\"\n",
    "        \n",
    "        carrito = []  # Inicializamos un carrito vacío para almacenar los productos seleccionados.\n",
    "        costo_total = 0  # Inicializamos el costo total de la compra.\n",
    "        \n",
    "        while True:   # Este bucle permite que el cliente siga realizando compras hasta que decida detenerse.\n",
    "\n",
    "            print(\"\\n--- Inventario disponible ---\")\n",
    "\n",
    "            for producto in self.inventario:  # Mostramos el inventario disponible al cliente.\n",
    "                print(f\"Nombre: {producto['nombre']}, Precio: ${producto['precio']}, Cantidad disponible: {producto['cantidad']}\")\n",
    "            \n",
    "            # Solicitar al cliente que ingrese el nombre del producto que desea comprar.\n",
    "            nombre_producto = input(\"\\n¿Qué producto deseas comprar? (Escribe 'salir' para terminar): \").lower()  # Utilizo lower() para evitar problemas de mayúsculas o minúsculas.\n",
    "            \n",
    "            if nombre_producto == 'salir':\n",
    "                break  # Finaliza la compra si el cliente escribe 'salir'.\n",
    "            \n",
    "            # Buscar el producto en el inventario.\n",
    "            producto_encontrado = None  # Inicio la variable producto_encontrado como un valor \"nulo\" o vacío antes de comenzar la búsqueda en el inventario.\n",
    "\n",
    "            for producto in self.inventario:\n",
    "\n",
    "                if producto['nombre'] == nombre_producto:\n",
    "                    producto_encontrado = producto\n",
    "                    break #  Una vez que el producto es encontrado, salimos del bucle.\n",
    "            \n",
    "            if producto_encontrado: # Si el producto existe, solicito cuántas unidades desea el cliente.\n",
    "                cantidad = int(input(f\"¿Cuántas unidades de {producto_encontrado['nombre']} deseas comprar? \"))\n",
    "                \n",
    "                if cantidad <= producto_encontrado['cantidad']:\n",
    "                    # Añado el producto al carrito y actualizo el inventario.\n",
    "                    carrito.append({'nombre': producto_encontrado['nombre'], 'precio': producto_encontrado['precio'], 'cantidad': cantidad})\n",
    "                    \n",
    "                    # Resto la cantidad comprada del inventario.\n",
    "                    producto_encontrado['cantidad'] -= cantidad\n",
    "                    \n",
    "                    # Actualizo el costo total.\n",
    "                    costo_total += producto_encontrado['precio'] * cantidad\n",
    "                    print(f\"\\nHas agregado {cantidad} unidades de {producto_encontrado['nombre']} al carrito.\")\n",
    "\n",
    "                else:\n",
    "                    print(f\"\\nNo tenemos suficientes unidades de {producto_encontrado['nombre']}. Solo quedan {producto_encontrado['cantidad']} disponibles.\")\n",
    "\n",
    "            else:\n",
    "                print(f\"\\nEl producto {nombre_producto} no está en el inventario.\")\n",
    "        \n",
    "        # Muestro un resumen de la compra y costo total.\n",
    "        if carrito:\n",
    "            print(\"\\n--- Resumen de tu compra ---\")\n",
    "            for item in carrito:\n",
    "                print(f\"Producto: {item['nombre']}, Precio por unidad: ${item['precio']}, Cantidad: {item['cantidad']}\")\n",
    "            \n",
    "            print(f\"\\nEl costo total de tu compra es: ${costo_total:.2f}\")  # El :.2f asegura que cualquier número se mostrará siempre con dos decimales, redondeando si es necesario.\n",
    "        else:\n",
    "            print(\"\\nNo has comprado ningún producto.\")\n",
    "\n",
    "    def procesar_pago(self):\n",
    "\n",
    "        \"\"\"Este metodo nos sirve para procesar el pago de una compra, calcular el cambio y muestra un mensaje de confirmación.\"\"\"\n",
    "        \n",
    "        try:\n",
    "            # Solicito al cliente el total de la compra.\n",
    "            total_compra = float(input(\"Ingresa el total de la compra: \"))\n",
    "            \n",
    "            # Solicito al cliente la cantidad acumulada a pagar.\n",
    "            cantidad_pagada = float(input(f\"El total de la compra es ${total_compra:.2f}. Ingresa la cantidad acumulada a pagar: \"))\n",
    "            \n",
    "            # Verifico si el pago es suficiente.\n",
    "            if cantidad_pagada < total_compra:\n",
    "                raise ValueError(\"la cantidad acumulada es insuficiente para completar la compra.\")  # Lanza un error si el pago es menor.\n",
    "            \n",
    "            # Calculo el cambio.\n",
    "            cambio = cantidad_pagada - total_compra\n",
    "            print(f\"Pago exitoso. El cambio es: ${cambio:.2f}. ¡Gracias por tu compra!\")\n",
    "        \n",
    "        except ValueError as error:\n",
    "            # Capturo cualquier error de valor (como pago insuficiente o entrada no numérica).\n",
    "            print(f\"Error: {error}\")\n",
    "\n",
    "    def agregar_cliente(self, nombre, email):\n",
    "\n",
    "        \"\"\"Este metodo nos sirve para agregar un nuevo cliente al registro de clientes. Debe recibir el nombre y el correo electrónico del cliente como parámetros.\"\"\"\n",
    "\n",
    "        if nombre in self.clientes :  # Verifico si el cliente ya existe.\n",
    "\n",
    "            print(f\"El cliente {nombre} ya existe\")\n",
    "\n",
    "        else:  # Si el cliente no existe lo añado al diccionario.\n",
    "            añadir_cliente = {nombre: [email]}\n",
    "            self.clientes.update(añadir_cliente) # Utilizo updata() : metodo que sirve para agregar elementos al diccionario.\n",
    "            print(f\"El cliente {nombre} se ha agregado correctamente.\")\n",
    "\n",
    "    def ver_clientes(self): \n",
    "\n",
    "        \"\"\"Este metodo nos sirve para mostrar la lista de clientes registrados con sus nombres y correos electrónicos.\"\"\"\n",
    "\n",
    "        if self.clientes: # Verifico si hay algún cliente registrado en el diccionario\n",
    "            for cliente, datos in self.clientes.items():  # Itero sobre las claves (nombres) y valores (emails) del diccionario.\n",
    "                print(f\"Nombre: {cliente}, Email: {datos[0]}\")   # .items(): se utiliza en los diccionarios para obtener tanto las claves como los valores al mismo tiempo.\n",
    "            \n",
    "        else:\n",
    "            print(\"No hay clientes registrados.\")  # Muestro un mensaje si no hay ningún cliente registrado.\n",
    "\n",
    "\n",
    "    \n",
    "\n",
    "        "
   ]
  },
  {
   "cell_type": "code",
   "execution_count": 2,
   "metadata": {},
   "outputs": [],
   "source": [
    "t_1 = TiendaOnline(3.3)"
   ]
  },
  {
   "cell_type": "code",
   "execution_count": 3,
   "metadata": {},
   "outputs": [
    {
     "name": "stdout",
     "output_type": "stream",
     "text": [
      "El producto gafas se ha agregado al inventario.\n"
     ]
    }
   ],
   "source": [
    "t_1.agregar_producto(\"gafas\", 3.5, 6)"
   ]
  },
  {
   "cell_type": "code",
   "execution_count": 4,
   "metadata": {},
   "outputs": [
    {
     "name": "stdout",
     "output_type": "stream",
     "text": [
      "El producto perro se ha agregado al inventario.\n"
     ]
    }
   ],
   "source": [
    "t_1.agregar_producto(\"perro\", 3.5, 6)"
   ]
  },
  {
   "cell_type": "code",
   "execution_count": 5,
   "metadata": {},
   "outputs": [
    {
     "name": "stdout",
     "output_type": "stream",
     "text": [
      "El producto perro se ha actualizado correctamente.\n"
     ]
    }
   ],
   "source": [
    "t_1.agregar_producto(\"perro\", 3.5, 6)"
   ]
  },
  {
   "cell_type": "code",
   "execution_count": 6,
   "metadata": {},
   "outputs": [
    {
     "name": "stdout",
     "output_type": "stream",
     "text": [
      "Nombre: gafas, Precio: $3.5, Cantidad: 6\n",
      "Nombre: perro, Precio: $3.5, Cantidad: 12\n"
     ]
    }
   ],
   "source": [
    "t_1.ver_inventario()"
   ]
  },
  {
   "cell_type": "code",
   "execution_count": 7,
   "metadata": {},
   "outputs": [
    {
     "name": "stdout",
     "output_type": "stream",
     "text": [
      "El producto: gato no se encuentra en el inventario.\n"
     ]
    }
   ],
   "source": [
    "t_1.buscar_producto(\"gato\")"
   ]
  },
  {
   "cell_type": "code",
   "execution_count": 8,
   "metadata": {},
   "outputs": [
    {
     "name": "stdout",
     "output_type": "stream",
     "text": [
      "Nombre: gafas, Precio: $3.5, Cantidad: 6\n"
     ]
    }
   ],
   "source": [
    "t_1.buscar_producto(\"gafas\")"
   ]
  },
  {
   "cell_type": "code",
   "execution_count": 9,
   "metadata": {},
   "outputs": [
    {
     "name": "stdout",
     "output_type": "stream",
     "text": [
      "Nombre: perro, Precio: $3.5, Cantidad: 12\n"
     ]
    }
   ],
   "source": [
    "t_1.buscar_producto(\"perro\")"
   ]
  },
  {
   "cell_type": "code",
   "execution_count": 10,
   "metadata": {},
   "outputs": [
    {
     "name": "stdout",
     "output_type": "stream",
     "text": [
      "El producto gafas se ha actualizado correctamente, el stock actual es de 10.\n"
     ]
    }
   ],
   "source": [
    "t_1.actualizar_stock(\"gafas\", 10)"
   ]
  },
  {
   "cell_type": "code",
   "execution_count": 11,
   "metadata": {},
   "outputs": [
    {
     "name": "stdout",
     "output_type": "stream",
     "text": [
      "El producto: perro a sido eliminado correctamente.\n"
     ]
    }
   ],
   "source": [
    "t_1.eliminar_producto(\"perro\")"
   ]
  },
  {
   "cell_type": "code",
   "execution_count": 12,
   "metadata": {},
   "outputs": [
    {
     "name": "stdout",
     "output_type": "stream",
     "text": [
      "El producto: lalo no esta en el inventario.\n"
     ]
    }
   ],
   "source": [
    "t_1.eliminar_producto(\"lalo\")"
   ]
  },
  {
   "cell_type": "code",
   "execution_count": 13,
   "metadata": {},
   "outputs": [
    {
     "name": "stdout",
     "output_type": "stream",
     "text": [
      "Nombre: gafas, Precio: $3.5, Cantidad: 10\n"
     ]
    }
   ],
   "source": [
    "t_1.ver_inventario()"
   ]
  },
  {
   "cell_type": "code",
   "execution_count": 14,
   "metadata": {},
   "outputs": [
    {
     "name": "stdout",
     "output_type": "stream",
     "text": [
      "El cliente laura se ha agregado correctamente.\n"
     ]
    }
   ],
   "source": [
    "t_1.agregar_cliente(\"laura\", \"L.G.F_@gmail.com\")"
   ]
  },
  {
   "cell_type": "code",
   "execution_count": 15,
   "metadata": {},
   "outputs": [
    {
     "data": {
      "text/plain": [
       "{'ventas_totales': 3.3,\n",
       " 'inventario': [{'nombre': 'gafas', 'precio': 3.5, 'cantidad': 10}],\n",
       " 'clientes': {'laura': ['L.G.F_@gmail.com']}}"
      ]
     },
     "execution_count": 15,
     "metadata": {},
     "output_type": "execute_result"
    }
   ],
   "source": [
    "t_1.__dict__"
   ]
  },
  {
   "cell_type": "code",
   "execution_count": 16,
   "metadata": {},
   "outputs": [
    {
     "data": {
      "text/plain": [
       "{'laura': ['L.G.F_@gmail.com']}"
      ]
     },
     "execution_count": 16,
     "metadata": {},
     "output_type": "execute_result"
    }
   ],
   "source": [
    "t_1.clientes"
   ]
  },
  {
   "cell_type": "code",
   "execution_count": 17,
   "metadata": {},
   "outputs": [
    {
     "name": "stdout",
     "output_type": "stream",
     "text": [
      "El cliente laura ya existe\n"
     ]
    }
   ],
   "source": [
    "t_1.agregar_cliente(\"laura\", \"L.G.F_@gmail.com\")"
   ]
  },
  {
   "cell_type": "code",
   "execution_count": 18,
   "metadata": {},
   "outputs": [
    {
     "name": "stdout",
     "output_type": "stream",
     "text": [
      "Nombre: laura, Email: L.G.F_@gmail.com\n"
     ]
    }
   ],
   "source": [
    "t_1.ver_clientes()"
   ]
  }
 ],
 "metadata": {
  "kernelspec": {
   "display_name": "base",
   "language": "python",
   "name": "python3"
  },
  "language_info": {
   "codemirror_mode": {
    "name": "ipython",
    "version": 3
   },
   "file_extension": ".py",
   "mimetype": "text/x-python",
   "name": "python",
   "nbconvert_exporter": "python",
   "pygments_lexer": "ipython3",
   "version": "3.9.12"
  }
 },
 "nbformat": 4,
 "nbformat_minor": 2
}
