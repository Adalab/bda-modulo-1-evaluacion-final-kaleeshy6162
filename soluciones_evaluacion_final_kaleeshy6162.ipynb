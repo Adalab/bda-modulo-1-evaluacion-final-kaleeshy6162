{
 "cells": [
  {
   "cell_type": "markdown",
   "metadata": {},
   "source": [
    "# Ejercicio 1:"
   ]
  },
  {
   "cell_type": "code",
   "execution_count": 1,
   "metadata": {},
   "outputs": [],
   "source": [
    "class TiendaOnline : \n",
    "    def __init__(self, ventas_totales = 0.0):\n",
    "        \n",
    "        self.ventas_totales = ventas_totales  # float\n",
    "        self.inventario = []   # `'nombre'`, `'precio'`, y `'cantidad'`\n",
    "        self.clientes = {}   # `'nombre'` y `'email'`\n",
    "\n",
    "\n",
    "    def agregar_producto(self, nombre, precio, cantidad):\n",
    "\n",
    "        \"\"\"Este método recibe nombre, precio, cantidad y sirve para añadir productos al inventario y actualizar la cantidad de un producto, si ya existe.\"\"\"\n",
    "\n",
    "        for producto in self.inventario :\n",
    "\n",
    "            if producto['nombre'] == nombre: # Si el producto es igual al produccto que esta en el inventario, informamos de que la cantidad del producto se ha actualizado correctamente.\n",
    "\n",
    "                producto['cantidad'] += cantidad # Actualizo la cantidad sumando la nueva.\n",
    "                print(f\"El producto {nombre} se ha actualizado correctamente.\")\n",
    "                return # Al cumplirse esta condicion paramos.\n",
    "            \n",
    "        # Si no se encuentra, se añade el nuevo producto\n",
    "        nuevo_p = {\"nombre\": nombre, \"precio\": precio, \"cantidad\": cantidad}\n",
    "        self.inventario.append(nuevo_p)\n",
    "        print(f\"El producto {nombre} se ha agregado al inventario.\")\n",
    "\n",
    "    def ver_inventario(self):\n",
    "\n",
    "        \"\"\"Este metodo sirve para ver el inventario de productos con sus detalles.\"\"\"\n",
    "\n",
    "        if not self.inventario: # Si no hay nada, aviso de que esta el inventario vacio.\n",
    "             print(\"El inventario esta vacio\")\n",
    "\n",
    "        for producto in self.inventario:\n",
    "                # Imprimimo los detalles del producto.\n",
    "                print(f\"Nombre: {producto['nombre']}, Precio: ${producto['precio']}, Cantidad: {producto['cantidad']}\")\n",
    "\n",
    "    def buscar_producto(self, nombre):\n",
    "\n",
    "        \"\"\"Este metodo sirve para buscar un producto en el inventario por nombre con sus detalles.\"\"\"\n",
    "\n",
    "        for producto in self.inventario:\n",
    "                \n",
    "                if nombre == producto['nombre'] :   # Si encontramos el producto\n",
    "                    \n",
    "                    print(f\"Nombre: {producto['nombre']}, Precio: ${producto['precio']}, Cantidad: {producto['cantidad']}\")\n",
    "                    break  # Salimos del bucle ya que no necesitamos seguir buscando\n",
    "\n",
    "        if nombre not in producto['nombre'] :  # Si después de buscar no lo encontramos\n",
    "\n",
    "                    print(f\"El producto: {nombre} no se encuentra en el inventario.\")\n",
    "\n",
    "    def actualizar_stock(self, nombre, cantidad):\n",
    "         \n",
    "        \"\"\"Este metodo recibe nombre, cantidad y sirve para actualizar el stock de un producto en el inventario. Debe recibir el nombre del producto y la cantidad a agregar o quitar como parámetros. \"\"\"\n",
    "\n",
    "        for producto in self.inventario :\n",
    "\n",
    "            if producto['nombre'] == nombre :  # Si el producto es igual al produccto que esta en el inventario, actualizamos la cantidad del producto que hay en stock.\n",
    "\n",
    "                producto['cantidad'] = cantidad # Actualizo la cantidad sustituyendola.\n",
    "                print(f\"El producto {nombre} se ha actualizado correctamente, el stock actual es de {cantidad}.\")\n",
    "                return # Al cumplirse esta condicion paramos.\n",
    "            \n",
    "        if producto['nombre'] not in nombre : # No entiendo como aqui si funciona.\n",
    "\n",
    "            print(f\"Lo siento no tenemos el producto {nombre} en el inventario.\")\n",
    "\n",
    "    def eliminar_producto(self, nombre):\n",
    "\n",
    "        for producto in self.inventario:\n",
    "\n",
    "            if nombre == producto['nombre'] :\n",
    "\n",
    "                self.inventario.remove(producto)\n",
    "                print(f\"El producto: {nombre} a sido eliminado correctamente.\")\n",
    "                return\n",
    "\n",
    "        if nombre not in self.inventario:\n",
    "\n",
    "            print(f\"El producto: {nombre} no esta en el inventario.\")\n",
    "\n",
    "    def calcular_valor_inventario(self):\n",
    "\n",
    "        \"\"\"Este metodo sirve para calcular y mostrar el valor total del inventario.\"\"\"\n",
    "\n",
    "        valor_total = 0  # Inicio la variable para el valor total del inventario.\n",
    "\n",
    "        for producto in self.inventario:\n",
    "\n",
    "            valor_producto = producto['precio'] * producto['cantidad']  # Calculo el valor de cada producto.\n",
    "            valor_total += valor_producto  # Sumo el valor del producto al total.\n",
    "\n",
    "        print(f\"El valor total del inventario es: {valor_total} euros.\")  # Mostramos el valor total, fuera del bucle si no se imprime por cada elemento.\n",
    "\n",
    "\n",
    "        "
   ]
  },
  {
   "cell_type": "code",
   "execution_count": 2,
   "metadata": {},
   "outputs": [],
   "source": [
    "t_1 = TiendaOnline(3.3)"
   ]
  },
  {
   "cell_type": "code",
   "execution_count": 3,
   "metadata": {},
   "outputs": [
    {
     "name": "stdout",
     "output_type": "stream",
     "text": [
      "El producto gafas se ha agregado al inventario.\n"
     ]
    }
   ],
   "source": [
    "t_1.agregar_producto(\"gafas\", 3.5, 6)"
   ]
  },
  {
   "cell_type": "code",
   "execution_count": 4,
   "metadata": {},
   "outputs": [
    {
     "name": "stdout",
     "output_type": "stream",
     "text": [
      "El producto perro se ha agregado al inventario.\n"
     ]
    }
   ],
   "source": [
    "t_1.agregar_producto(\"perro\", 3.5, 6)"
   ]
  },
  {
   "cell_type": "code",
   "execution_count": 5,
   "metadata": {},
   "outputs": [
    {
     "name": "stdout",
     "output_type": "stream",
     "text": [
      "El producto perro se ha actualizado correctamente.\n"
     ]
    }
   ],
   "source": [
    "t_1.agregar_producto(\"perro\", 3.5, 6)"
   ]
  },
  {
   "cell_type": "code",
   "execution_count": 6,
   "metadata": {},
   "outputs": [
    {
     "name": "stdout",
     "output_type": "stream",
     "text": [
      "Nombre: gafas, Precio: $3.5, Cantidad: 6\n",
      "Nombre: perro, Precio: $3.5, Cantidad: 12\n"
     ]
    }
   ],
   "source": [
    "t_1.ver_inventario()"
   ]
  },
  {
   "cell_type": "code",
   "execution_count": 7,
   "metadata": {},
   "outputs": [
    {
     "name": "stdout",
     "output_type": "stream",
     "text": [
      "El producto: gato no se encuentra en el inventario.\n"
     ]
    }
   ],
   "source": [
    "t_1.buscar_producto(\"gato\")"
   ]
  },
  {
   "cell_type": "code",
   "execution_count": 8,
   "metadata": {},
   "outputs": [
    {
     "name": "stdout",
     "output_type": "stream",
     "text": [
      "Nombre: gafas, Precio: $3.5, Cantidad: 6\n"
     ]
    }
   ],
   "source": [
    "t_1.buscar_producto(\"gafas\")"
   ]
  },
  {
   "cell_type": "code",
   "execution_count": 9,
   "metadata": {},
   "outputs": [
    {
     "name": "stdout",
     "output_type": "stream",
     "text": [
      "Nombre: perro, Precio: $3.5, Cantidad: 12\n"
     ]
    }
   ],
   "source": [
    "t_1.buscar_producto(\"perro\")"
   ]
  },
  {
   "cell_type": "code",
   "execution_count": 10,
   "metadata": {},
   "outputs": [
    {
     "name": "stdout",
     "output_type": "stream",
     "text": [
      "El producto gafas se ha actualizado correctamente, el stock actual es de 10.\n"
     ]
    }
   ],
   "source": [
    "t_1.actualizar_stock(\"gafas\", 10)"
   ]
  },
  {
   "cell_type": "code",
   "execution_count": 11,
   "metadata": {},
   "outputs": [
    {
     "name": "stdout",
     "output_type": "stream",
     "text": [
      "El producto: perro a sido eliminado correctamente.\n"
     ]
    }
   ],
   "source": [
    "t_1.eliminar_producto(\"perro\")"
   ]
  },
  {
   "cell_type": "code",
   "execution_count": 12,
   "metadata": {},
   "outputs": [
    {
     "name": "stdout",
     "output_type": "stream",
     "text": [
      "El producto: lalo no esta en el inventario.\n"
     ]
    }
   ],
   "source": [
    "t_1.eliminar_producto(\"lalo\")"
   ]
  },
  {
   "cell_type": "code",
   "execution_count": 13,
   "metadata": {},
   "outputs": [
    {
     "name": "stdout",
     "output_type": "stream",
     "text": [
      "Nombre: gafas, Precio: $3.5, Cantidad: 10\n"
     ]
    }
   ],
   "source": [
    "t_1.ver_inventario()"
   ]
  },
  {
   "cell_type": "code",
   "execution_count": 14,
   "metadata": {},
   "outputs": [
    {
     "name": "stdout",
     "output_type": "stream",
     "text": [
      "El valor total del inventario es: 35.0 euros.\n"
     ]
    }
   ],
   "source": [
    "t_1.calcular_valor_inventario()"
   ]
  }
 ],
 "metadata": {
  "kernelspec": {
   "display_name": "base",
   "language": "python",
   "name": "python3"
  },
  "language_info": {
   "codemirror_mode": {
    "name": "ipython",
    "version": 3
   },
   "file_extension": ".py",
   "mimetype": "text/x-python",
   "name": "python",
   "nbconvert_exporter": "python",
   "pygments_lexer": "ipython3",
   "version": "3.9.12"
  }
 },
 "nbformat": 4,
 "nbformat_minor": 2
}
